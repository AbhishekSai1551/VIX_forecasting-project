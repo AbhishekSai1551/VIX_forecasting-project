{
 "cells": [
  {
   "cell_type": "markdown",
   "metadata": {},
   "source": [
    "# Execute Comprehensive Architecture Testing\n",
    "\n",
    "This notebook orchestrates the complete testing pipeline:\n",
    "1. **CNN-LSTM Architecture Testing**: Run all CNN-LSTM variants with hyperparameter optimization\n",
    "2. **GRU Architecture Testing**: Run all GRU variants with hyperparameter optimization\n",
    "3. **Comprehensive Analysis**: Compare all architectures and select the best model\n",
    "4. **Results Integration**: Consolidate all results for final model selection\n",
    "\n",
    "## Execution Order:\n",
    "1. Load and prepare data\n",
    "2. Execute CNN-LSTM testing (5 architectures)\n",
    "3. Execute GRU testing (6 architectures)\n",
    "4. Run comprehensive analysis\n",
    "5. Generate final recommendations"
   ]
  },
  {
   "cell_type": "markdown",
   "metadata": {},
   "source": [
    "## Block 1: Setup and Data Preparation"
   ]
  },
  {
   "cell_type": "code",
   "execution_count": null,
   "metadata": {},
   "outputs": [],
   "source": [
    "# Import required libraries\n",
    "import sys\n",
    "import time\n",
    "import joblib\n",
    "import pandas as pd\n",
    "import numpy as np\n",
    "from datetime import datetime\n",
    "from pathlib import Path\n",
    "\n",
    "# Import shared utilities\n",
    "from vix_research_utils import *\n",
    "\n",
    "print(\"=\" * 80)\n",
    "print(\"VIX FORECASTING COMPREHENSIVE ARCHITECTURE TESTING\")\n",
    "print(\"=\" * 80)\n",
    "print(f\"Start time: {datetime.now().strftime('%Y-%m-%d %H:%M:%S')}\")\n",
    "print()\n",
    "\n",
    "# Load and prepare data\n",
    "print(\"Loading and preparing data...\")\n",
    "vix_data, vvix_data = download_market_data()\n",
    "vix_clean = clean_data(vix_data)\n",
    "vvix_clean = clean_data(vvix_data)\n",
    "features_df = create_features(vix_clean, vvix_clean)\n",
    "X, y, feature_names, scaler = prepare_sequences(features_df, sequence_length=30)\n",
    "\n",
    "# Split data\n",
    "split_idx = int(len(X) * 0.8)\n",
    "X_train, X_test = X[:split_idx], X[split_idx:]\n",
    "y_train, y_test = y[:split_idx], y[split_idx:]\n",
    "\n",
    "print(f\"Data prepared successfully:\")\n",
    "print(f\"  Total samples: {X.shape[0]}\")\n",
    "print(f\"  Features: {X.shape[2]}\")\n",
    "print(f\"  Training samples: {X_train.shape[0]}\")\n",
    "print(f\"  Test samples: {X_test.shape[0]}\")\n",
    "print(f\"  Sequence length: {X.shape[1]}\")\n",
    "print()"
   ]
  },
  {
   "cell_type": "markdown",
   "metadata": {},
   "source": [
    "## Block 2: Execute CNN-LSTM Testing"
   ]
  },
  {
   "cell_type": "code",
   "execution_count": null,
   "metadata": {},
   "outputs": [],
   "source": [
    "# Execute CNN-LSTM comprehensive testing\n",
    "print(\"=\" * 60)\n",
    "print(\"EXECUTING CNN-LSTM COMPREHENSIVE TESTING\")\n",
    "print(\"=\" * 60)\n",
    "\n",
    "cnn_lstm_start_time = time.time()\n",
    "\n",
    "try:\n",
    "    # Run the CNN-LSTM notebook\n",
    "    exec(open('CNN_LSTM_Comprehensive_Testing.ipynb').read())\n",
    "    print(\"CNN-LSTM testing completed successfully\")\nexcept Exception as e:\n",
    "    print(f\"Error in CNN-LSTM testing: {e}\")\n",
    "    print(\"Continuing with available results...\")\n",
    "\n",
    "cnn_lstm_duration = time.time() - cnn_lstm_start_time\n",
    "print(f\"CNN-LSTM testing duration: {cnn_lstm_duration/60:.1f} minutes\")\n",
    "print()"
   ]
  },
  {
   "cell_type": "markdown",
   "metadata": {},
   "source": [
    "## Block 3: Execute GRU Testing"
   ]
  },
  {
   "cell_type": "code",
   "execution_count": null,
   "metadata": {},
   "outputs": [],
   "source": [
    "# Execute GRU comprehensive testing\n",
    "print(\"=\" * 60)\n",
    "print(\"EXECUTING GRU COMPREHENSIVE TESTING\")\n",
    "print(\"=\" * 60)\n",
    "\n",
    "gru_start_time = time.time()\n",
    "\n",
    "try:\n",
    "    # Run the GRU notebook\n",
    "    exec(open('GRU_Comprehensive_Testing.ipynb').read())\n",
    "    print(\"GRU testing completed successfully\")\nexcept Exception as e:\n",
    "    print(f\"Error in GRU testing: {e}\")\n",
    "    print(\"Continuing with available results...\")\n",
    "\n",
    "gru_duration = time.time() - gru_start_time\n",
    "print(f\"GRU testing duration: {gru_duration/60:.1f} minutes\")\n",
    "print()"
   ]
  },
  {
   "cell_type": "markdown",
   "metadata": {},
   "source": [
    "## Block 4: Execute Comprehensive Analysis"
   ]
  },
  {
   "cell_type": "code",
   "execution_count": null,
   "metadata": {},
   "outputs": [],
   "source": [
    "# Execute comprehensive analysis\n",
    "print(\"=\" * 60)\n",
    "print(\"EXECUTING COMPREHENSIVE ANALYSIS\")\n",
    "print(\"=\" * 60)\n",
    "\n",
    "analysis_start_time = time.time()\n",
    "\n",
    "try:\n",
    "    # Run the comprehensive analysis notebook\n",
    "    exec(open('Comprehensive_Architecture_Analysis.ipynb').read())\n",
    "    print(\"Comprehensive analysis completed successfully\")\nexcept Exception as e:\n",
    "    print(f\"Error in comprehensive analysis: {e}\")\n",
    "    print(\"Continuing with manual analysis...\")\n",
    "\n",
    "analysis_duration = time.time() - analysis_start_time\n",
    "print(f\"Analysis duration: {analysis_duration/60:.1f} minutes\")\n",
    "print()"
   ]
  },
  {
   "cell_type": "markdown",
   "metadata": {},
   "source": [
    "## Block 5: Results Summary and Final Recommendations"
   ]
  },
  {
   "cell_type": "code",
   "execution_count": null,
   "metadata": {},
   "outputs": [],
   "source": [
    "# Generate final summary\n",
    "print(\"=\" * 80)\n",
    "print(\"FINAL RESULTS SUMMARY\")\n",
    "print(\"=\" * 80)\n",
    "\n",
    "total_duration = time.time() - cnn_lstm_start_time\n",
    "end_time = datetime.now()\n",
    "\n",
    "print(f\"\\nExecution Summary:\")\n",
    "print(f\"  Start time: {datetime.now().strftime('%Y-%m-%d %H:%M:%S')}\")\n",
    "print(f\"  End time: {end_time.strftime('%Y-%m-%d %H:%M:%S')}\")\n",
    "print(f\"  Total duration: {total_duration/3600:.1f} hours\")\n",
    "print(f\"  CNN-LSTM testing: {cnn_lstm_duration/60:.1f} minutes\")\n",
    "print(f\"  GRU testing: {gru_duration/60:.1f} minutes\")\n",
    "print(f\"  Analysis: {analysis_duration/60:.1f} minutes\")\n",
    "\n",
    "# Load and summarize all results\n",
    "print(\"\\nLoading final results...\")\n",
    "\n",
    "# Check for result files\n",
    "result_files = list(Path('.').glob('*_results_*.pkl'))\n",
    "comprehensive_files = list(Path('.').glob('*_comprehensive_results.pkl'))\n",
    "\n",
    "print(f\"Found {len(result_files)} individual result files\")\n",
    "print(f\"Found {len(comprehensive_files)} comprehensive result files\")\n",
    "\n",
    "if result_files or comprehensive_files:\n",
    "    print(\"\\nResults successfully generated and saved.\")\n",
    "    print(\"\\nNext steps:\")\n",
    "    print(\"1. Review the comprehensive analysis results\")\n",
    "    print(\"2. Examine the recommended best model\")\n",
    "    print(\"3. Use the best model for final VIX forecasting implementation\")\n",
    "    print(\"4. Consider ensemble methods combining top performers\")\nelse:\n",
    "    print(\"\\nWarning: No result files found. Check for errors in execution.\")\n",
    "\n",
    "print(\"\\n\" + \"=\" * 80)\n",
    "print(\"COMPREHENSIVE TESTING COMPLETE\")\n",
    "print(\"=\" * 80)"
   ]
  }
 ],
 "metadata": {
  "kernelspec": {
   "display_name": "Python 3",
   "language": "python",
   "name": "python3"
  },
  "language_info": {
   "codemirror_mode": {
    "name": "ipython",
    "version": 3
   },
   "file_extension": ".py",
   "mimetype": "text/x-python",
   "name": "python",
   "nbconvert_exporter": "python",
   "pygments_lexer": "ipython3",
   "version": "3.8.5"
  }
 },
 "nbformat": 4,
 "nbformat_minor": 4
}
